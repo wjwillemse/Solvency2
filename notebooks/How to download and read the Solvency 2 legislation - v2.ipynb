{
 "cells": [
  {
   "cell_type": "markdown",
   "metadata": {},
   "source": [
    "# How to download and read the Solvency 2 legislation\n",
    "\n",
    "In our first NLP project we will download, clean and read the Delegated Acts of the Solvency 2 legislation in all European languages."
   ]
  },
  {
   "cell_type": "code",
   "execution_count": 1,
   "metadata": {},
   "outputs": [],
   "source": [
    "import os\n",
    "import re\n",
    "import requests\n",
    "#import fitz"
   ]
  },
  {
   "cell_type": "markdown",
   "metadata": {},
   "source": [
    "The languages of the European Union are\n",
    "Bulgarian (BG),\n",
    "Spanish (ES),\n",
    "Czech (CS),\n",
    "Danish (DA),\n",
    "German (DE),\n",
    "Estonian (ET),\n",
    "Greek (EL),\n",
    "English (EN),\n",
    "French (FR),\n",
    "Croatian (HR),\n",
    "Italian (IT),\n",
    "Latvian (LV),\n",
    "Lithuanian (LT),\n",
    "Hungarian (HU),\n",
    "Maltese (MT),\n",
    "Dutch (NL),\n",
    "Polish (PL),\n",
    "Portuguese (PT),\n",
    "Romanian (RO),\n",
    "Slovak (SK),\n",
    "Solvenian (SL),\n",
    "Finnish (FI),\n",
    "Swedish (SV)."
   ]
  },
  {
   "cell_type": "code",
   "execution_count": 2,
   "metadata": {},
   "outputs": [],
   "source": [
    "languages = ['BG','ES','CS','DA','DE','ET','EL',\n",
    "             'EN','FR','HR','IT','LV','LT','HU',\n",
    "             'MT','NL','PL','PT','RO','SK','SL',\n",
    "             'FI','SV']"
   ]
  },
  {
   "cell_type": "markdown",
   "metadata": {},
   "source": [
    "The urls of the Delegated Acts of Solvency 2 are constructed for these languages."
   ]
  },
  {
   "cell_type": "code",
   "execution_count": 3,
   "metadata": {},
   "outputs": [],
   "source": [
    "urls = ['https://eur-lex.europa.eu/legal-content/' + lang +\n",
    "        '/TXT/PDF/?uri=OJ:L:2015:012:FULL&from=EN' \n",
    "        for lang in languages]"
   ]
  },
  {
   "cell_type": "markdown",
   "metadata": {},
   "source": [
    "The following for loop retrieves the pdfs of the Delegated Acts from the website of the European Union and stores them in da_path."
   ]
  },
  {
   "cell_type": "code",
   "execution_count": 4,
   "metadata": {},
   "outputs": [
    {
     "name": "stdout",
     "output_type": "stream",
     "text": [
      "Retrieving BG from https://eur-lex.europa.eu/legal-content/BG/TXT/PDF/?uri=OJ:L:2015:012:FULL&from=EN\n",
      "Retrieving ES from https://eur-lex.europa.eu/legal-content/ES/TXT/PDF/?uri=OJ:L:2015:012:FULL&from=EN\n",
      "Retrieving CS from https://eur-lex.europa.eu/legal-content/CS/TXT/PDF/?uri=OJ:L:2015:012:FULL&from=EN\n",
      "Retrieving DA from https://eur-lex.europa.eu/legal-content/DA/TXT/PDF/?uri=OJ:L:2015:012:FULL&from=EN\n",
      "Retrieving DE from https://eur-lex.europa.eu/legal-content/DE/TXT/PDF/?uri=OJ:L:2015:012:FULL&from=EN\n",
      "Retrieving ET from https://eur-lex.europa.eu/legal-content/ET/TXT/PDF/?uri=OJ:L:2015:012:FULL&from=EN\n",
      "Retrieving EL from https://eur-lex.europa.eu/legal-content/EL/TXT/PDF/?uri=OJ:L:2015:012:FULL&from=EN\n",
      "Retrieving EN from https://eur-lex.europa.eu/legal-content/EN/TXT/PDF/?uri=OJ:L:2015:012:FULL&from=EN\n",
      "Retrieving FR from https://eur-lex.europa.eu/legal-content/FR/TXT/PDF/?uri=OJ:L:2015:012:FULL&from=EN\n",
      "Retrieving HR from https://eur-lex.europa.eu/legal-content/HR/TXT/PDF/?uri=OJ:L:2015:012:FULL&from=EN\n",
      "Retrieving IT from https://eur-lex.europa.eu/legal-content/IT/TXT/PDF/?uri=OJ:L:2015:012:FULL&from=EN\n",
      "Retrieving LV from https://eur-lex.europa.eu/legal-content/LV/TXT/PDF/?uri=OJ:L:2015:012:FULL&from=EN\n",
      "Retrieving LT from https://eur-lex.europa.eu/legal-content/LT/TXT/PDF/?uri=OJ:L:2015:012:FULL&from=EN\n",
      "Retrieving HU from https://eur-lex.europa.eu/legal-content/HU/TXT/PDF/?uri=OJ:L:2015:012:FULL&from=EN\n",
      "Retrieving MT from https://eur-lex.europa.eu/legal-content/MT/TXT/PDF/?uri=OJ:L:2015:012:FULL&from=EN\n",
      "Retrieving NL from https://eur-lex.europa.eu/legal-content/NL/TXT/PDF/?uri=OJ:L:2015:012:FULL&from=EN\n",
      "Retrieving PL from https://eur-lex.europa.eu/legal-content/PL/TXT/PDF/?uri=OJ:L:2015:012:FULL&from=EN\n",
      "Retrieving PT from https://eur-lex.europa.eu/legal-content/PT/TXT/PDF/?uri=OJ:L:2015:012:FULL&from=EN\n",
      "Retrieving RO from https://eur-lex.europa.eu/legal-content/RO/TXT/PDF/?uri=OJ:L:2015:012:FULL&from=EN\n",
      "Retrieving SK from https://eur-lex.europa.eu/legal-content/SK/TXT/PDF/?uri=OJ:L:2015:012:FULL&from=EN\n",
      "Retrieving SL from https://eur-lex.europa.eu/legal-content/SL/TXT/PDF/?uri=OJ:L:2015:012:FULL&from=EN\n",
      "Retrieving FI from https://eur-lex.europa.eu/legal-content/FI/TXT/PDF/?uri=OJ:L:2015:012:FULL&from=EN\n",
      "Retrieving SV from https://eur-lex.europa.eu/legal-content/SV/TXT/PDF/?uri=OJ:L:2015:012:FULL&from=EN\n"
     ]
    }
   ],
   "source": [
    "da_path = '/10_central_data/legislation/'\n",
    "\n",
    "for index in range(len(urls)):\n",
    "    \n",
    "    print(\"Retrieving \" + languages[index] + ' from ' + urls[index])\n",
    "    \n",
    "    filename = 'Solvency II Delegated Acts - ' + languages[index]+ '.pdf'\n",
    "\n",
    "    if not(os.path.isfile(da_path + filename)):\n",
    "        \n",
    "        r = requests.get(urls[index])\n",
    "\n",
    "        f = open(da_path + filename,'wb+')\n",
    "        f.write(r.content) \n",
    "        f.close()\n",
    "\n",
    "        fh = open(da_path + filename, \"rb\")\n",
    "        pdffile = PyPDF2.PdfFileReader(fh)\n",
    "        fh.close()"
   ]
  },
  {
   "cell_type": "markdown",
   "metadata": {},
   "source": [
    "# Data cleaning"
   ]
  },
  {
   "cell_type": "markdown",
   "metadata": {},
   "source": [
    "If you look at the pdfs then you see that each page has a header with page number and information about the legislation and the language. These headers must be deleted to access the articles in the text."
   ]
  },
  {
   "cell_type": "code",
   "execution_count": 5,
   "metadata": {},
   "outputs": [],
   "source": [
    "DA_dict = dict({\n",
    "                'BG': 'Официален вестник на Европейския съюз',\n",
    "                'CS': 'Úřední věstník Evropské unie',\n",
    "                'DA': 'Den Europæiske Unions Tidende',\n",
    "                'DE': 'Amtsblatt der Europäischen Union',\n",
    "                'EL': 'Επίσημη Εφημερίδα της Ευρωπαϊκής Ένωσης',\n",
    "                'EN': 'Official Journal of the European Union',\n",
    "                'ES': 'Diario Oficial de la Unión Europea',\n",
    "                'ET': 'Euroopa Liidu Teataja',           \n",
    "                'FI': 'Euroopan unionin virallinen lehti',\n",
    "                'FR': \"Journal officiel de l'Union européenne\",\n",
    "                'HR': 'Službeni list Europske unije',         \n",
    "                'HU': 'Az Európai Unió Hivatalos Lapja',      \n",
    "                'IT': \"Gazzetta ufficiale dell'Unione europea\",\n",
    "                'LT': 'Europos Sąjungos oficialusis leidinys',\n",
    "                'LV': 'Eiropas Savienības Oficiālais Vēstnesis',\n",
    "                'MT': 'Il-Ġurnal Uffiċjali tal-Unjoni Ewropea',\n",
    "                'NL': 'Publicatieblad van de Europese Unie',  \n",
    "                'PL': 'Dziennik Urzędowy Unii Europejskiej',  \n",
    "                'PT': 'Jornal Oficial da União Europeia',     \n",
    "                'RO': 'Jurnalul Oficial al Uniunii Europene', \n",
    "                'SK': 'Úradný vestník Európskej únie',        \n",
    "                'SL': 'Uradni list Evropske unije',            \n",
    "                'SV': 'Europeiska unionens officiella tidning'})"
   ]
  },
  {
   "cell_type": "markdown",
   "metadata": {},
   "source": [
    "The following code reads the pdfs, deletes the headers from all pages and saves the clean text to a .txt file."
   ]
  },
  {
   "cell_type": "code",
   "execution_count": 6,
   "metadata": {},
   "outputs": [
    {
     "name": "stdout",
     "output_type": "stream",
     "text": [
      "Reading language BG ES CS DA DE ET EL EN FR HR IT LV LT HU MT NL PL PT RO SK SL FI SV "
     ]
    }
   ],
   "source": [
    "DA = dict()\n",
    "\n",
    "files = [f for f in os.listdir(da_path) if os.path.isfile(os.path.join(da_path, f))]    \n",
    "\n",
    "print(\"Reading language \", end='')\n",
    "\n",
    "for language in languages:\n",
    "\n",
    "    print(language + \" \", end='')\n",
    "\n",
    "    if not(\"Delegated_Acts_\" + language + \".txt\" in files):\n",
    "    \n",
    "        # reading pages from pdf file\n",
    "        da_pdf = fitz.open(da_path + 'Solvency II Delegated Acts - ' + language + '.pdf')\n",
    "        da_pages = [page.getText(output = \"text\") for page in da_pdf]\n",
    "        da_pdf.close()\n",
    "\n",
    "        # deleting page headers\n",
    "        header = \"17.1.2015\\\\s+L\\\\s+\\\\d+/\\\\d+\\\\s+\" + DA_dict[language].replace(' ','\\\\s+') + \"\\\\s+\" + language + \"\\\\s+\"\n",
    "        da_pages = [re.sub(header, '', page) for page in da_pages]\n",
    "        DA[language] = ''.join(da_pages)\n",
    "    \n",
    "        # some preliminary cleaning -> should be more \n",
    "        DA[language] = DA[language].replace('\\xad ', '')\n",
    "    \n",
    "        # saving txt file\n",
    "        da_txt = open(da_path + \"Delegated_Acts_\" + language + \".txt\", \"wb\")\n",
    "        da_txt.write(DA[language].encode('utf-8'))\n",
    "        da_txt.close()\n",
    "\n",
    "    else:\n",
    "        \n",
    "        # loading txt file\n",
    "        da_txt = open(da_path + \"Delegated_Acts_\" + language + \".txt\", \"rb\")\n",
    "        DA[language] = da_txt.read().decode('utf-8')\n",
    "        da_txt.close()        "
   ]
  },
  {
   "cell_type": "markdown",
   "metadata": {},
   "source": [
    "# Retrieve the text within articles"
   ]
  },
  {
   "cell_type": "markdown",
   "metadata": {},
   "source": [
    "Retrieving the text within articles is not straightforward. In English we have 'Article 1 some text', i.e. de word Article is put before the number. But some European languages put the word after the number and there are two languages, HU and LV, that put a dot between the number and the article. To  be able to read the text within the articles we need to know this ordering (and we need of course the word for article in every language)."
   ]
  },
  {
   "cell_type": "code",
   "execution_count": 7,
   "metadata": {},
   "outputs": [],
   "source": [
    "art_dict= dict({\n",
    "                'BG': ['Член',      'pre'],\n",
    "                'CS': ['Článek',    'pre'],\n",
    "                'DA': ['Artikel',   'pre'],\n",
    "                'DE': ['Artikel',   'pre', 'TITEL|KAPITEL|ABSCHNITT|Unterabschnitt'],\n",
    "                'EL': ['Άρθρο',     'pre'],\n",
    "                'EN': ['Article',   'pre', 'TITLE|CHAPTER|SECTION|Subsection'],\n",
    "                'ES': ['Artículo',  'pre'],\n",
    "                'ET': ['Artikkel',  'pre'],\n",
    "                'FI': ['artikla',   'post'],\n",
    "                'FR': ['Article',   'pre', 'TITRE|CHAPITRE|SECTION|Sous-section'],\n",
    "                'HR': ['Članak',    'pre'],\n",
    "                'HU': ['cikk',      'postdot'],\n",
    "                'IT': ['Articolo',  'pre'],\n",
    "                'LT': ['straipsnis','post'],\n",
    "                'LV': ['pants',     'postdot'],\n",
    "                'MT': ['Artikolu',  'pre'],\n",
    "                'NL': ['Artikel',   'pre', 'TITEL|HOOFDSTUK|AFDELING|Onderafdeling'],\n",
    "                'PL': ['Artykuł',   'pre'],\n",
    "                'PT': ['Artigo',    'pre'],\n",
    "                'RO': ['Articolul', 'pre'],\n",
    "                'SK': ['Článok',    'pre'],\n",
    "                'SL': ['Člen',      'pre'],\n",
    "                'SV': ['Artikel',   'pre']})"
   ]
  },
  {
   "cell_type": "markdown",
   "metadata": {},
   "source": [
    "Next we can define a regex to select the text within an article."
   ]
  },
  {
   "cell_type": "code",
   "execution_count": 8,
   "metadata": {},
   "outputs": [],
   "source": [
    "def article_regex(language, num):\n",
    "    order = art_dict[language][1]\n",
    "    headings = art_dict[language][2]\n",
    "    art_id = art_dict[language][0]\n",
    "    if order == 'pre':\n",
    "        string = art_id+'\\s('+str(num)+')\\s\\n(.*?)(\\n.*?)\\n((\\s'+headings+').*)?'+art_id+'\\s'+str(num+1)\n",
    "    elif order == 'post':\n",
    "        string = str(num)+'\\s('+art_id+')\\s(.*?)'+str(num+1)+' '+art_id\n",
    "    elif order == 'postdot':\n",
    "        string = str(num)+'.\\s('+art_id+')\\s(.*?)'+str(num+1)+'. '+art_id\n",
    "    return re.compile(string, re.DOTALL)\n",
    "\n",
    "def retrieve_article(language, num):\n",
    "    art_re = article_regex(language, num)\n",
    "    art_text = art_re.search(DA[language])\n",
    "    art_num = int(art_text[1])\n",
    "    art_title = ' '.join(art_text[2].split())\n",
    "    art_body = art_text[3]\n",
    "    if art_body[0:3] == '\\n1.': \n",
    "        # if the article start with '1.' then it has numbered paragraphs\n",
    "        paragraph_re = re.compile('\\n(\\d+)\\. (.*?)(?=(\\n(\\d+)\\.)|$)', re.DOTALL)\n",
    "        art_paragraphs = [(int(p[0]), p[1]) for p in paragraph_re.findall(art_body)]\n",
    "    else:\n",
    "        art_paragraphs = [(0, ' '.join(art_body.split()))]\n",
    "    return (art_num, art_title, art_paragraphs)"
   ]
  },
  {
   "cell_type": "markdown",
   "metadata": {},
   "source": [
    "Okay, where are we now? We have a function that can retrieve the text of all the articles in the Delegated Acts for each European language."
   ]
  },
  {
   "cell_type": "code",
   "execution_count": 9,
   "metadata": {},
   "outputs": [],
   "source": [
    "import pandas as pd"
   ]
  },
  {
   "cell_type": "code",
   "execution_count": 11,
   "metadata": {},
   "outputs": [
    {
     "data": {
      "text/html": [
       "<div>\n",
       "<style scoped>\n",
       "    .dataframe tbody tr th:only-of-type {\n",
       "        vertical-align: middle;\n",
       "    }\n",
       "\n",
       "    .dataframe tbody tr th {\n",
       "        vertical-align: top;\n",
       "    }\n",
       "\n",
       "    .dataframe thead th {\n",
       "        text-align: right;\n",
       "    }\n",
       "</style>\n",
       "<table border=\"1\" class=\"dataframe\">\n",
       "  <thead>\n",
       "    <tr style=\"text-align: right;\">\n",
       "      <th></th>\n",
       "      <th>article</th>\n",
       "      <th>paragraph</th>\n",
       "      <th>article_title</th>\n",
       "      <th>paragraph_text</th>\n",
       "    </tr>\n",
       "    <tr>\n",
       "      <th>reference</th>\n",
       "      <th></th>\n",
       "      <th></th>\n",
       "      <th></th>\n",
       "      <th></th>\n",
       "    </tr>\n",
       "  </thead>\n",
       "  <tbody>\n",
       "    <tr>\n",
       "      <td>1</td>\n",
       "      <td>1</td>\n",
       "      <td>0</td>\n",
       "      <td>Definitions</td>\n",
       "      <td>For the purposes of this Regulation, the follo...</td>\n",
       "    </tr>\n",
       "    <tr>\n",
       "      <td>2(1)</td>\n",
       "      <td>2</td>\n",
       "      <td>1</td>\n",
       "      <td>Expert judgement</td>\n",
       "      <td>Where insurance and reinsurance undertakings m...</td>\n",
       "    </tr>\n",
       "    <tr>\n",
       "      <td>2(2)</td>\n",
       "      <td>2</td>\n",
       "      <td>2</td>\n",
       "      <td>Expert judgement</td>\n",
       "      <td>Insurance and reinsurance undertakings shall, ...</td>\n",
       "    </tr>\n",
       "    <tr>\n",
       "      <td>3</td>\n",
       "      <td>3</td>\n",
       "      <td>0</td>\n",
       "      <td>Association of credit assessments to credit qu...</td>\n",
       "      <td>The scale of credit quality steps referred to ...</td>\n",
       "    </tr>\n",
       "    <tr>\n",
       "      <td>4(1)</td>\n",
       "      <td>4</td>\n",
       "      <td>1</td>\n",
       "      <td>General requirements on the use of credit asse...</td>\n",
       "      <td>Insurance or reinsurance undertakings may use ...</td>\n",
       "    </tr>\n",
       "    <tr>\n",
       "      <td>...</td>\n",
       "      <td>...</td>\n",
       "      <td>...</td>\n",
       "      <td>...</td>\n",
       "      <td>...</td>\n",
       "    </tr>\n",
       "    <tr>\n",
       "      <td>377(1)</td>\n",
       "      <td>377</td>\n",
       "      <td>1</td>\n",
       "      <td>Significant intragroup transactions (definitio...</td>\n",
       "      <td>Participating insurance and reinsurance undert...</td>\n",
       "    </tr>\n",
       "    <tr>\n",
       "      <td>377(2)</td>\n",
       "      <td>377</td>\n",
       "      <td>2</td>\n",
       "      <td>Significant intragroup transactions (definitio...</td>\n",
       "      <td>For the purposes of identifying significant in...</td>\n",
       "    </tr>\n",
       "    <tr>\n",
       "      <td>378</td>\n",
       "      <td>378</td>\n",
       "      <td>0</td>\n",
       "      <td>Criteria for assessing third country equivalence</td>\n",
       "      <td>The criteria to be taken into account in order...</td>\n",
       "    </tr>\n",
       "    <tr>\n",
       "      <td>379</td>\n",
       "      <td>379</td>\n",
       "      <td>0</td>\n",
       "      <td>Criteria for assessing third country equivalence</td>\n",
       "      <td>The criteria to be taken into account in order...</td>\n",
       "    </tr>\n",
       "    <tr>\n",
       "      <td>380</td>\n",
       "      <td>380</td>\n",
       "      <td>0</td>\n",
       "      <td>Criteria for assessing third country equivalence</td>\n",
       "      <td>The criteria which shall be taken into account...</td>\n",
       "    </tr>\n",
       "  </tbody>\n",
       "</table>\n",
       "<p>1054 rows × 4 columns</p>\n",
       "</div>"
      ],
      "text/plain": [
       "           article  paragraph  \\\n",
       "reference                       \n",
       "1                1          0   \n",
       "2(1)             2          1   \n",
       "2(2)             2          2   \n",
       "3                3          0   \n",
       "4(1)             4          1   \n",
       "...            ...        ...   \n",
       "377(1)         377          1   \n",
       "377(2)         377          2   \n",
       "378            378          0   \n",
       "379            379          0   \n",
       "380            380          0   \n",
       "\n",
       "                                               article_title  \\\n",
       "reference                                                      \n",
       "1                                                Definitions   \n",
       "2(1)                                        Expert judgement   \n",
       "2(2)                                        Expert judgement   \n",
       "3          Association of credit assessments to credit qu...   \n",
       "4(1)       General requirements on the use of credit asse...   \n",
       "...                                                      ...   \n",
       "377(1)     Significant intragroup transactions (definitio...   \n",
       "377(2)     Significant intragroup transactions (definitio...   \n",
       "378         Criteria for assessing third country equivalence   \n",
       "379         Criteria for assessing third country equivalence   \n",
       "380         Criteria for assessing third country equivalence   \n",
       "\n",
       "                                              paragraph_text  \n",
       "reference                                                     \n",
       "1          For the purposes of this Regulation, the follo...  \n",
       "2(1)       Where insurance and reinsurance undertakings m...  \n",
       "2(2)       Insurance and reinsurance undertakings shall, ...  \n",
       "3          The scale of credit quality steps referred to ...  \n",
       "4(1)       Insurance or reinsurance undertakings may use ...  \n",
       "...                                                      ...  \n",
       "377(1)     Participating insurance and reinsurance undert...  \n",
       "377(2)     For the purposes of identifying significant in...  \n",
       "378        The criteria to be taken into account in order...  \n",
       "379        The criteria to be taken into account in order...  \n",
       "380        The criteria which shall be taken into account...  \n",
       "\n",
       "[1054 rows x 4 columns]"
      ]
     },
     "execution_count": 11,
     "metadata": {},
     "output_type": "execute_result"
    }
   ],
   "source": [
    "df = pd.DataFrame()\n",
    "for art in range(1, 381):\n",
    "    data = retrieve_article('EN', art)\n",
    "    for para in range(len(data[2])):\n",
    "        ref = str(data[0])\n",
    "        if data[2][para][0]!=0:\n",
    "            ref = ref + '('+str(data[2][para][0])+')'\n",
    "        df = df.append([[ref,data[0], data[2][para][0], data[1],  data[2][para][1]]])\n",
    "df.columns = ['reference', 'article', 'paragraph', 'article_title', 'paragraph_text']\n",
    "df = df.set_index('reference')\n",
    "df"
   ]
  },
  {
   "cell_type": "code",
   "execution_count": 240,
   "metadata": {},
   "outputs": [
    {
     "data": {
      "text/plain": [
       "'Bei der Bestimmung der Wahrscheinlichkeit, dass die Versicherungsnehmer vertragliche Optionen, einschließlich Storno- und Rückkaufsmöglichkeiten, wahrnehmen, analysieren die Versicherungs- und Rückversicherungsunternehmen das frühere Verhalten der Versicherungsnehmer und bewerten prospektiv das erwartete Verhalten. Bei dieser Analyse wird Folgendem Rechnung getragen: (a) der Frage, wie vorteilhaft die Ausübung der Optionen für den Versicherungsnehmer unter den zum Zeitpunkt der Ausübung herrschenden Umständen war und künftig sein wird; (b) dem Einfluss vergangener und künftiger wirtschaftlicher Rahmenbedingungen; (c) den Auswirkungen vergangener und künftiger Maßnahmen des Managements; (d) allen anderen etwaigen Umständen, die die Entscheidungen der Versicherungsnehmer über die Wahrnehmung einer Option beeinflussen dürften. Dass die Wahrscheinlichkeit von den unter den Buchstaben a bis d genannten Elementen unabhängig ist, wird nur dann angenommen, wenn empirische Nachweise eine solche Annahme stützen.'"
      ]
     },
     "execution_count": 240,
     "metadata": {},
     "output_type": "execute_result"
    }
   ],
   "source": [
    "df[df['article']==26].paragraph_text.values[0]"
   ]
  },
  {
   "cell_type": "code",
   "execution_count": 170,
   "metadata": {
    "scrolled": true
   },
   "outputs": [
    {
     "name": "stdout",
     "output_type": "stream",
     "text": [
      "(11, 'Recognition of contingent liabilities', [(1, 'Insurance and reinsurance undertakings shall recognise contingent liabilities, as defined in accordance with  Article 9 of this Regulation, that are material, as liabilities. '), (2, 'Contingent liabilities shall be material where information about the current or potential size or nature of those  liabilities could influence the decision-making or judgement of the intended user of that information, including the  supervisory authorities. ')])\n"
     ]
    }
   ],
   "source": []
  },
  {
   "cell_type": "code",
   "execution_count": 81,
   "metadata": {},
   "outputs": [
    {
     "data": {
      "text/plain": [
       "(292,\n",
       " 'Zusammenfassung',\n",
       " [(1,\n",
       "   'Der Bericht über Solvabilität und Finanzlage enthält eine klare, knappe Zusammenfassung. Die Zusammenfassung  des Berichts ist für Versicherungsnehmer und Anspruchsberechtigte verständlich. '),\n",
       "  (2,\n",
       "   'In der Zusammenfassung werden etwaige wesentliche Änderungen in Bezug auf Geschäftstätigkeit und Leistung  des Versicherungs- oder Rückversicherungsunternehmens, sein Governance-System, sein Risikoprofil, die Bewertung für  Solvabilitätszwecke und das Kapitalmanagement im Berichtszeitraum herausgestellt. ')])"
      ]
     },
     "execution_count": 81,
     "metadata": {},
     "output_type": "execute_result"
    }
   ],
   "source": [
    "retrieve_article('DE', 292)"
   ]
  },
  {
   "cell_type": "code",
   "execution_count": 82,
   "metadata": {},
   "outputs": [
    {
     "data": {
      "text/plain": [
       "(292,\n",
       " 'Synthèse',\n",
       " [(1,\n",
       "   'Le rapport sur la solvabilité et la situation financière contient une synthèse concise et claire. Cette synthèse est  compréhensible par les preneurs et les bénéficiaires. '),\n",
       "  (2,\n",
       "   \"La synthèse met en évidence tout changement important survenu dans l'activité et les résultats de l'entreprise  d'assurance ou de réassurance, son système de gouvernance, son profil de risque, la valorisation qu'elle applique à des  fins de solvabilité et la gestion de son capital sur la période de référence. \")])"
      ]
     },
     "execution_count": 82,
     "metadata": {},
     "output_type": "execute_result"
    }
   ],
   "source": [
    "retrieve_article('FR', 292)"
   ]
  },
  {
   "cell_type": "code",
   "execution_count": 83,
   "metadata": {},
   "outputs": [
    {
     "data": {
      "text/plain": [
       "(292,\n",
       " 'Περίληψη',\n",
       " [(1,\n",
       "   'Η έκθεση φερεγγυότητας και χρηματοοικονομικής κατάστασης περιλαμβάνει σαφή και σύντομη περίληψη. Η περίληψη  της έκθεσης πρέπει να είναι κατανοητή από τους αντισυμβαλλομένους και τους δικαιούχους. '),\n",
       "  (2,\n",
       "   'Η περίληψη της έκθεσης επισημαίνει τυχόν ουσιώδεις αλλαγές όσον αφορά τη δραστηριότητα και τις επιδόσεις της  ασφαλιστικής και αντασφαλιστικής επιχείρησης, το σύστημα διακυβέρνησης, το προφίλ κινδύνου, την εκτίμηση της αξίας για  τους σκοπούς φερεγγυότητας και τη διαχείριση κεφαλαίου κατά την περίοδο αναφοράς. ')])"
      ]
     },
     "execution_count": 83,
     "metadata": {},
     "output_type": "execute_result"
    }
   ],
   "source": [
    "retrieve_article('EL', 292)"
   ]
  },
  {
   "cell_type": "code",
   "execution_count": 84,
   "metadata": {},
   "outputs": [
    {
     "data": {
      "text/plain": [
       "(295,\n",
       " 'Risicoprofiel',\n",
       " [(1,\n",
       "   \"Het verslag over de solvabiliteit en financiële toestand bevat kwalitatieve en kwantitatieve informatie over het  risicoprofiel van de verzekerings- of herverzekeringsonderneming, zulks in overeenstemming met de leden 2 tot en  met 7 en afzonderlijk voor de volgende risicocategorieën: \\n(a)  verzekeringstechnisch risico; \\n(b)  marktrisico; \\n(c)  kredietrisico; \\n(d)  liquiditeitsrisico; \\n(e)  operationeel risico; \\n(f)  andere materiële risico's. \"),\n",
       "  (2,\n",
       "   \"Het verslag over de solvabiliteit en financiële toestand bevat de volgende informatie over de risicoblootstelling van  de verzekerings- of herverzekeringsonderneming, met inbegrip van de blootstelling die voortvloeit uit buitenbalansposities en de overdracht van risico aan special purpose vehicles: \\n(a)  een beschrijving van de maatregelen om deze risico's binnen die onderneming te beoordelen, met vermelding van  alle in de loop van de rapportageperiode opgetreden materiële veranderingen; \\n(b)  een beschrijving van de materiële risico's waaraan die onderneming is blootgesteld, met vermelding van alle in de  loop van de rapportageperiode opgetreden materiële veranderingen; \\n(c)  een beschrijving van de wijze waarop de activa in overeenstemming met het in artikel 132 van  Richtlijn 2009/138/EG beschreven „prudent person”-beginsel zijn belegd, en de in dat artikel genoemde risico's naar  behoren worden beheerd. \"),\n",
       "  (3,\n",
       "   'Wat risicoconcentratie betreft, bevat het verslag over de solvabiliteit en financiële toestand een beschrijving van de  materiële risicoconcentraties waaraan de verzekerings- of herverzekeringsonderneming is blootgesteld. '),\n",
       "  (4,\n",
       "   'Wat risicolimitering betreft, bevat het verslag over de solvabiliteit en financiële toestand een beschrijving van de  gehanteerde risicolimiteringstechnieken en van de procedures voor het monitoren of deze risicolimiteringstechnieken  doeltreffend blijven. '),\n",
       "  (5,\n",
       "   'Wat het liquiditeitsrisico betreft, vermeldt het verslag over de solvabiliteit en financiële toestand het totaalbedrag  van de in toekomstige premies vervatte verwachte winst, zoals berekend in overeenstemming met artikel 260, lid 2. '),\n",
       "  (6,\n",
       "   \"Wat risicogevoeligheid betreft, bevat het verslag over de solvabiliteit en financiële toestand een beschrijving van de  gehanteerde methoden, de gemaakte veronderstellingen en de uitkomst van stresstests en gevoeligheidsanalyses met  betrekking tot materiële risico's en gebeurtenissen. \"),\n",
       "  (7,\n",
       "   'Het verslag over de solvabiliteit en financiële toestand bevat in een afzonderlijke afdeling alle andere materiële  informatie over het risicoprofiel van de verzekerings- of herverzekeringsonderneming. ')])"
      ]
     },
     "execution_count": 84,
     "metadata": {},
     "output_type": "execute_result"
    }
   ],
   "source": [
    "retrieve_article('NL', 295)"
   ]
  },
  {
   "cell_type": "code",
   "execution_count": null,
   "metadata": {},
   "outputs": [],
   "source": []
  }
 ],
 "metadata": {
  "kernelspec": {
   "display_name": "Python 3",
   "language": "python",
   "name": "python3"
  },
  "language_info": {
   "codemirror_mode": {
    "name": "ipython",
    "version": 3
   },
   "file_extension": ".py",
   "mimetype": "text/x-python",
   "name": "python",
   "nbconvert_exporter": "python",
   "pygments_lexer": "ipython3",
   "version": "3.7.4"
  }
 },
 "nbformat": 4,
 "nbformat_minor": 2
}
