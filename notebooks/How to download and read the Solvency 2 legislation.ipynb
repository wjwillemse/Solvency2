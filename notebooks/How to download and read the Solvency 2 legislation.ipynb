{
 "cells": [
  {
   "cell_type": "markdown",
   "metadata": {},
   "source": [
    "# How to download and read the Solvency 2 legislation\n",
    "\n",
    "In our first NLP project we will download, clean and read the Delegated Acts of the Solvency 2 legislation in all European languages."
   ]
  },
  {
   "cell_type": "code",
   "execution_count": 1,
   "metadata": {},
   "outputs": [],
   "source": [
    "import os\n",
    "import re\n",
    "import requests\n",
    "import fitz"
   ]
  },
  {
   "cell_type": "markdown",
   "metadata": {},
   "source": [
    "The languages of the European Union are\n",
    "Bulgarian (BG),\n",
    "Spanish (ES),\n",
    "Czech (CS),\n",
    "Danish (DA),\n",
    "German (DE),\n",
    "Estonian (ET),\n",
    "Greek (EL),\n",
    "English (EN),\n",
    "French (FR),\n",
    "Croatian (HR),\n",
    "Italian (IT),\n",
    "Latvian (LV),\n",
    "Lithuanian (LT),\n",
    "Hungarian (HU),\n",
    "Maltese (MT),\n",
    "Dutch (NL),\n",
    "Polish (PL),\n",
    "Portuguese (PT),\n",
    "Romanian (RO),\n",
    "Slovak (SK),\n",
    "Solvenian (SL),\n",
    "Finnish (FI),\n",
    "Swedish (SV)."
   ]
  },
  {
   "cell_type": "code",
   "execution_count": 2,
   "metadata": {},
   "outputs": [],
   "source": [
    "languages = ['BG','ES','CS','DA','DE','ET','EL',\n",
    "             'EN','FR','HR','IT','LV','LT','HU',\n",
    "             'MT','NL','PL','PT','RO','SK','SL',\n",
    "             'FI','SV']"
   ]
  },
  {
   "cell_type": "markdown",
   "metadata": {},
   "source": [
    "The urls of the Delegated Acts of Solvency 2 are constructed for these languages."
   ]
  },
  {
   "cell_type": "code",
   "execution_count": 3,
   "metadata": {},
   "outputs": [],
   "source": [
    "urls = ['https://eur-lex.europa.eu/legal-content/' + lang +\n",
    "        '/TXT/PDF/?uri=OJ:L:2015:012:FULL&from=EN' \n",
    "        for lang in languages]"
   ]
  },
  {
   "cell_type": "markdown",
   "metadata": {},
   "source": [
    "The following for loop retrieves the pdfs of the Delegated Acts from the website of the European Union and stores them in da_path."
   ]
  },
  {
   "cell_type": "code",
   "execution_count": 4,
   "metadata": {},
   "outputs": [
    {
     "name": "stdout",
     "output_type": "stream",
     "text": [
      "Retrieving BG from https://eur-lex.europa.eu/legal-content/BG/TXT/PDF/?uri=OJ:L:2015:012:FULL&from=EN\n",
      "Retrieving ES from https://eur-lex.europa.eu/legal-content/ES/TXT/PDF/?uri=OJ:L:2015:012:FULL&from=EN\n",
      "Retrieving CS from https://eur-lex.europa.eu/legal-content/CS/TXT/PDF/?uri=OJ:L:2015:012:FULL&from=EN\n",
      "Retrieving DA from https://eur-lex.europa.eu/legal-content/DA/TXT/PDF/?uri=OJ:L:2015:012:FULL&from=EN\n",
      "Retrieving DE from https://eur-lex.europa.eu/legal-content/DE/TXT/PDF/?uri=OJ:L:2015:012:FULL&from=EN\n",
      "Retrieving ET from https://eur-lex.europa.eu/legal-content/ET/TXT/PDF/?uri=OJ:L:2015:012:FULL&from=EN\n",
      "Retrieving EL from https://eur-lex.europa.eu/legal-content/EL/TXT/PDF/?uri=OJ:L:2015:012:FULL&from=EN\n",
      "Retrieving EN from https://eur-lex.europa.eu/legal-content/EN/TXT/PDF/?uri=OJ:L:2015:012:FULL&from=EN\n",
      "Retrieving FR from https://eur-lex.europa.eu/legal-content/FR/TXT/PDF/?uri=OJ:L:2015:012:FULL&from=EN\n",
      "Retrieving HR from https://eur-lex.europa.eu/legal-content/HR/TXT/PDF/?uri=OJ:L:2015:012:FULL&from=EN\n",
      "Retrieving IT from https://eur-lex.europa.eu/legal-content/IT/TXT/PDF/?uri=OJ:L:2015:012:FULL&from=EN\n",
      "Retrieving LV from https://eur-lex.europa.eu/legal-content/LV/TXT/PDF/?uri=OJ:L:2015:012:FULL&from=EN\n",
      "Retrieving LT from https://eur-lex.europa.eu/legal-content/LT/TXT/PDF/?uri=OJ:L:2015:012:FULL&from=EN\n",
      "Retrieving HU from https://eur-lex.europa.eu/legal-content/HU/TXT/PDF/?uri=OJ:L:2015:012:FULL&from=EN\n",
      "Retrieving MT from https://eur-lex.europa.eu/legal-content/MT/TXT/PDF/?uri=OJ:L:2015:012:FULL&from=EN\n",
      "Retrieving NL from https://eur-lex.europa.eu/legal-content/NL/TXT/PDF/?uri=OJ:L:2015:012:FULL&from=EN\n",
      "Retrieving PL from https://eur-lex.europa.eu/legal-content/PL/TXT/PDF/?uri=OJ:L:2015:012:FULL&from=EN\n",
      "Retrieving PT from https://eur-lex.europa.eu/legal-content/PT/TXT/PDF/?uri=OJ:L:2015:012:FULL&from=EN\n",
      "Retrieving RO from https://eur-lex.europa.eu/legal-content/RO/TXT/PDF/?uri=OJ:L:2015:012:FULL&from=EN\n",
      "Retrieving SK from https://eur-lex.europa.eu/legal-content/SK/TXT/PDF/?uri=OJ:L:2015:012:FULL&from=EN\n",
      "Retrieving SL from https://eur-lex.europa.eu/legal-content/SL/TXT/PDF/?uri=OJ:L:2015:012:FULL&from=EN\n",
      "Retrieving FI from https://eur-lex.europa.eu/legal-content/FI/TXT/PDF/?uri=OJ:L:2015:012:FULL&from=EN\n",
      "Retrieving SV from https://eur-lex.europa.eu/legal-content/SV/TXT/PDF/?uri=OJ:L:2015:012:FULL&from=EN\n"
     ]
    }
   ],
   "source": [
    "da_path = '../../../../../10_central_data/legislation/'\n",
    "\n",
    "for index in range(len(urls)):\n",
    "    \n",
    "    print(\"Retrieving \" + languages[index] + ' from ' + urls[index])\n",
    "    \n",
    "    filename = 'Solvency II Delegated Acts - ' + languages[index]+ '.pdf'\n",
    "\n",
    "    if not(os.path.isfile(da_path + filename)):\n",
    "        \n",
    "        r = requests.get(urls[index])\n",
    "\n",
    "        f = open(da_path + filename,'wb+')\n",
    "        f.write(r.content) \n",
    "        f.close()\n",
    "\n",
    "        fh = open(da_path + filename, \"rb\")\n",
    "        pdffile = PyPDF2.PdfFileReader(fh)\n",
    "        fh.close()"
   ]
  },
  {
   "cell_type": "markdown",
   "metadata": {},
   "source": [
    "# Data cleaning"
   ]
  },
  {
   "cell_type": "markdown",
   "metadata": {},
   "source": [
    "If you look at the pdfs then you see that each page has a header with page number and information about the legislation and the language. These headers must be deleted to access the articles in the text."
   ]
  },
  {
   "cell_type": "code",
   "execution_count": 5,
   "metadata": {},
   "outputs": [],
   "source": [
    "DA_dict = dict({\n",
    "                'BG': 'Официален вестник на Европейския съюз',\n",
    "                'CS': 'Úřední věstník Evropské unie',\n",
    "                'DA': 'Den Europæiske Unions Tidende',\n",
    "                'DE': 'Amtsblatt der Europäischen Union',\n",
    "                'EL': 'Επίσημη Εφημερίδα της Ευρωπαϊκής Ένωσης',\n",
    "                'EN': 'Official Journal of the European Union',\n",
    "                'ES': 'Diario Oficial de la Unión Europea',\n",
    "                'ET': 'Euroopa Liidu Teataja',           \n",
    "                'FI': 'Euroopan unionin virallinen lehti',\n",
    "                'FR': \"Journal officiel de l'Union européenne\",\n",
    "                'HR': 'Službeni list Europske unije',         \n",
    "                'HU': 'Az Európai Unió Hivatalos Lapja',      \n",
    "                'IT': \"Gazzetta ufficiale dell'Unione europea\",\n",
    "                'LT': 'Europos Sąjungos oficialusis leidinys',\n",
    "                'LV': 'Eiropas Savienības Oficiālais Vēstnesis',\n",
    "                'MT': 'Il-Ġurnal Uffiċjali tal-Unjoni Ewropea',\n",
    "                'NL': 'Publicatieblad van de Europese Unie',  \n",
    "                'PL': 'Dziennik Urzędowy Unii Europejskiej',  \n",
    "                'PT': 'Jornal Oficial da União Europeia',     \n",
    "                'RO': 'Jurnalul Oficial al Uniunii Europene', \n",
    "                'SK': 'Úradný vestník Európskej únie',        \n",
    "                'SL': 'Uradni list Evropske unije',            \n",
    "                'SV': 'Europeiska unionens officiella tidning'})"
   ]
  },
  {
   "cell_type": "markdown",
   "metadata": {},
   "source": [
    "The following code reads the pdfs, deletes the headers from all pages and saves the clean text to a .txt file."
   ]
  },
  {
   "cell_type": "code",
   "execution_count": 6,
   "metadata": {},
   "outputs": [
    {
     "name": "stdout",
     "output_type": "stream",
     "text": [
      "Reading language BG "
     ]
    },
    {
     "ename": "ValueError",
     "evalue": "bad type: 'stream'",
     "output_type": "error",
     "traceback": [
      "\u001b[1;31m---------------------------------------------------------------------------\u001b[0m",
      "\u001b[1;31mValueError\u001b[0m                                Traceback (most recent call last)",
      "\u001b[1;32m<ipython-input-6-155e2331fdbe>\u001b[0m in \u001b[0;36m<module>\u001b[1;34m\u001b[0m\n\u001b[0;32m     12\u001b[0m \u001b[1;33m\u001b[0m\u001b[0m\n\u001b[0;32m     13\u001b[0m         \u001b[1;31m# reading pages from pdf file\u001b[0m\u001b[1;33m\u001b[0m\u001b[1;33m\u001b[0m\u001b[1;33m\u001b[0m\u001b[0m\n\u001b[1;32m---> 14\u001b[1;33m         \u001b[0mda_pdf\u001b[0m \u001b[1;33m=\u001b[0m \u001b[0mfitz\u001b[0m\u001b[1;33m.\u001b[0m\u001b[0mopen\u001b[0m\u001b[1;33m(\u001b[0m\u001b[0mda_path\u001b[0m \u001b[1;33m+\u001b[0m \u001b[1;34m'Solvency II Delegated Acts - '\u001b[0m \u001b[1;33m+\u001b[0m \u001b[0mlanguage\u001b[0m \u001b[1;33m+\u001b[0m \u001b[1;34m'.pdf'\u001b[0m\u001b[1;33m,\u001b[0m \u001b[1;34m'rb'\u001b[0m\u001b[1;33m)\u001b[0m\u001b[1;33m\u001b[0m\u001b[1;33m\u001b[0m\u001b[0m\n\u001b[0m\u001b[0;32m     15\u001b[0m         \u001b[0mda_pages\u001b[0m \u001b[1;33m=\u001b[0m \u001b[1;33m[\u001b[0m\u001b[0mpage\u001b[0m\u001b[1;33m.\u001b[0m\u001b[0mgetText\u001b[0m\u001b[1;33m(\u001b[0m\u001b[0moutput\u001b[0m \u001b[1;33m=\u001b[0m \u001b[1;34m\"text\"\u001b[0m\u001b[1;33m)\u001b[0m \u001b[1;32mfor\u001b[0m \u001b[0mpage\u001b[0m \u001b[1;32min\u001b[0m \u001b[0mda_pdf\u001b[0m\u001b[1;33m]\u001b[0m\u001b[1;33m\u001b[0m\u001b[1;33m\u001b[0m\u001b[0m\n\u001b[0;32m     16\u001b[0m         \u001b[0mda_pdf\u001b[0m\u001b[1;33m.\u001b[0m\u001b[0mclose\u001b[0m\u001b[1;33m(\u001b[0m\u001b[1;33m)\u001b[0m\u001b[1;33m\u001b[0m\u001b[1;33m\u001b[0m\u001b[0m\n",
      "\u001b[1;32m~\\.conda\\envs\\nlp\\lib\\site-packages\\fitz\\fitz.py\u001b[0m in \u001b[0;36m__init__\u001b[1;34m(self, filename, stream, filetype, rect, width, height, fontsize)\u001b[0m\n\u001b[0;32m   2254\u001b[0m                 \u001b[0mself\u001b[0m\u001b[1;33m.\u001b[0m\u001b[0mstream\u001b[0m \u001b[1;33m=\u001b[0m \u001b[0mstream\u001b[0m\u001b[1;33m.\u001b[0m\u001b[0mgetvalue\u001b[0m\u001b[1;33m(\u001b[0m\u001b[1;33m)\u001b[0m\u001b[1;33m\u001b[0m\u001b[1;33m\u001b[0m\u001b[0m\n\u001b[0;32m   2255\u001b[0m             \u001b[1;32melse\u001b[0m\u001b[1;33m:\u001b[0m\u001b[1;33m\u001b[0m\u001b[1;33m\u001b[0m\u001b[0m\n\u001b[1;32m-> 2256\u001b[1;33m                 \u001b[1;32mraise\u001b[0m \u001b[0mValueError\u001b[0m\u001b[1;33m(\u001b[0m\u001b[1;34m\"bad type: 'stream'\"\u001b[0m\u001b[1;33m)\u001b[0m\u001b[1;33m\u001b[0m\u001b[1;33m\u001b[0m\u001b[0m\n\u001b[0m\u001b[0;32m   2257\u001b[0m             \u001b[0mstream\u001b[0m \u001b[1;33m=\u001b[0m \u001b[0mself\u001b[0m\u001b[1;33m.\u001b[0m\u001b[0mstream\u001b[0m\u001b[1;33m\u001b[0m\u001b[1;33m\u001b[0m\u001b[0m\n\u001b[0;32m   2258\u001b[0m         \u001b[1;32melse\u001b[0m\u001b[1;33m:\u001b[0m\u001b[1;33m\u001b[0m\u001b[1;33m\u001b[0m\u001b[0m\n",
      "\u001b[1;31mValueError\u001b[0m: bad type: 'stream'"
     ]
    }
   ],
   "source": [
    "DA = dict()\n",
    "\n",
    "files = [f for f in os.listdir(da_path) if os.path.isfile(os.path.join(da_path, f))]    \n",
    "\n",
    "print(\"Reading language \", end='')\n",
    "\n",
    "for language in languages:\n",
    "\n",
    "    print(language + \" \", end='')\n",
    "\n",
    "    if not(\"Delegated_Acts_\" + language + \".txt\" in files):\n",
    "    \n",
    "        # reading pages from pdf file\n",
    "        da_pdf = fitz.open(da_path + 'Solvency II Delegated Acts - ' + language + '.pdf', 'rb')\n",
    "        da_pages = [page.getText(output = \"text\") for page in da_pdf]\n",
    "        da_pdf.close()\n",
    "\n",
    "        # deleting page headers\n",
    "        header = \"17.1.2015\\\\s+L\\\\s+\\\\d+/\\\\d+\\\\s+\" + DA_dict[language].replace(' ','\\\\s+') + \"\\\\s+\" + language + \"\\\\s+\"\n",
    "        da_pages = [re.sub(header, '', page) for page in da_pages]\n",
    "        DA[language] = ''.join(da_pages)\n",
    "    \n",
    "        # some preliminary cleaning -> should be more \n",
    "        DA[language] = DA[language].replace('\\xad ', '')\n",
    "    \n",
    "        # saving txt file\n",
    "        da_txt = open(da_path + \"Delegated_Acts_\" + language + \".txt\", \"wb\")\n",
    "        da_txt.write(DA[language].encode('utf-8'))\n",
    "        da_txt.close()\n",
    "\n",
    "    else:\n",
    "        \n",
    "        # loading txt file\n",
    "        da_txt = open(da_path + \"Delegated_Acts_\" + language + \".txt\", \"rb\")\n",
    "        DA[language] = da_txt.read().decode('utf-8')\n",
    "        da_txt.close()        "
   ]
  },
  {
   "cell_type": "markdown",
   "metadata": {},
   "source": [
    "# Retrieve the text within articles"
   ]
  },
  {
   "cell_type": "markdown",
   "metadata": {},
   "source": [
    "Retrieving the text within articles is not straightforward. In English we have 'Article 1 some text', i.e. de word Article is put before the number. But some European languages put the word after the number and there are two languages, HU and LV, that put a dot between the number and the article. To  be able to read the text within the articles we need to know this ordering (and we need of course the word for article in every language)."
   ]
  },
  {
   "cell_type": "code",
   "execution_count": null,
   "metadata": {},
   "outputs": [],
   "source": [
    "art_dict= dict({\n",
    "                'BG': ['Член',      'pre'],\n",
    "                'CS': ['Článek',    'pre'],\n",
    "                'DA': ['Artikel',   'pre'],\n",
    "                'DE': ['Artikel',   'pre'],\n",
    "                'EL': ['Άρθρο',     'pre'],\n",
    "                'EN': ['Article',   'pre'],\n",
    "                'ES': ['Artículo',  'pre'],\n",
    "                'ET': ['Artikkel',  'pre'],\n",
    "                'FI': ['artikla',   'post'],\n",
    "                'FR': ['Article',   'pre'],\n",
    "                'HR': ['Članak',    'pre'],\n",
    "                'HU': ['cikk',      'postdot'],\n",
    "                'IT': ['Articolo',  'pre'],\n",
    "                'LT': ['straipsnis','post'],\n",
    "                'LV': ['pants',     'postdot'],\n",
    "                'MT': ['Artikolu',  'pre'],\n",
    "                'NL': ['Artikel',   'pre'],\n",
    "                'PL': ['Artykuł',   'pre'],\n",
    "                'PT': ['Artigo',    'pre'],\n",
    "                'RO': ['Articolul', 'pre'],\n",
    "                'SK': ['Článok',    'pre'],\n",
    "                'SL': ['Člen',      'pre'],\n",
    "                'SV': ['Artikel',   'pre']})"
   ]
  },
  {
   "cell_type": "markdown",
   "metadata": {},
   "source": [
    "Next we can define a regex to select the text within an article."
   ]
  },
  {
   "cell_type": "code",
   "execution_count": null,
   "metadata": {},
   "outputs": [],
   "source": [
    "def retrieve_article(language, article_num):\n",
    "\n",
    "    method = art_dict[language][1]\n",
    "    \n",
    "    if method == 'pre':\n",
    "        string = art_dict[language][0] + ' ' + str(article_num) + '(.*?)' + art_dict[language][0] + ' ' + str(article_num + 1)\n",
    "    elif method == 'post':\n",
    "        string = str(article_num) + ' ' + art_dict[language][0] + '(.*?)' + str(article_num + 1) + ' ' + art_dict[language][0]\n",
    "    elif method == 'postdot':\n",
    "        string = str(article_num) + '. ' + art_dict[language][0] + '(.*?)' + str(article_num + 1) + '. ' + art_dict[language][0]\n",
    "\n",
    "    r = re.compile(string, re.DOTALL)\n",
    "            \n",
    "    result = ' '.join(r.search(DA[language])[1].split())\n",
    "            \n",
    "    return result"
   ]
  },
  {
   "cell_type": "markdown",
   "metadata": {},
   "source": [
    "Okay, where are we now? We have a function that can retrieve the text of all the articles in the Delegated Acts for each European language."
   ]
  },
  {
   "cell_type": "code",
   "execution_count": null,
   "metadata": {},
   "outputs": [],
   "source": [
    "retrieve_article('EN', 292)"
   ]
  },
  {
   "cell_type": "code",
   "execution_count": null,
   "metadata": {},
   "outputs": [],
   "source": [
    "retrieve_article('DE', 292)"
   ]
  },
  {
   "cell_type": "code",
   "execution_count": null,
   "metadata": {},
   "outputs": [],
   "source": [
    "retrieve_article('FR', 292)"
   ]
  },
  {
   "cell_type": "code",
   "execution_count": null,
   "metadata": {},
   "outputs": [],
   "source": [
    "retrieve_article('EL', 292)"
   ]
  },
  {
   "cell_type": "code",
   "execution_count": null,
   "metadata": {},
   "outputs": [],
   "source": [
    "retrieve_article('NL', 295)"
   ]
  }
 ],
 "metadata": {
  "kernelspec": {
   "display_name": "Python 3",
   "language": "python",
   "name": "python3"
  },
  "language_info": {
   "codemirror_mode": {
    "name": "ipython",
    "version": 3
   },
   "file_extension": ".py",
   "mimetype": "text/x-python",
   "name": "python",
   "nbconvert_exporter": "python",
   "pygments_lexer": "ipython3",
   "version": "3.7.4"
  }
 },
 "nbformat": 4,
 "nbformat_minor": 2
}
