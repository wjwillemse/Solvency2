{
 "cells": [
  {
   "cell_type": "markdown",
   "metadata": {},
   "source": [
    "# How to import the Solvency 2 RFR into a Pandas DataFrame\n",
    "\n",
    "In this example we show how to import the Solvency 2 RFR from the EIOPA website in a convenient Pandas DataFrame, ready to be used for future calculations.\n",
    "\n",
    "The code can be found on https://github.com/wjwillemse/Solvency2.\n",
    "\n",
    "First we run <code>S2_RFR.py</code>, the Python code that contains functions to generate the names of the files, import the zip-file from the EIOPA website, extract it to an Excel file (both stored on disk) and read the Excel file in a proper Pandas DataFrame."
   ]
  },
  {
   "cell_type": "code",
   "execution_count": 1,
   "metadata": {},
   "outputs": [],
   "source": [
    "%run S2_RFR.py"
   ]
  },
  {
   "cell_type": "markdown",
   "metadata": {},
   "source": [
    "We have now all the functions we need.\n",
    "\n",
    "The function that does all this is <code>dict_RFR</code>, it returns a Python dictionary with all information about the RFR of a certain reference date. \n",
    "\n",
    "If you do not add a input datetime, i.e. <code>dict_RFR()</code>, then the function with use <code>today()</code> and you will receive the most recent published RFR."
   ]
  },
  {
   "cell_type": "code",
   "execution_count": 2,
   "metadata": {},
   "outputs": [],
   "source": [
    "d = dict_RFR(datetime(2018,1,1))"
   ]
  },
  {
   "cell_type": "markdown",
   "metadata": {},
   "source": [
    "What information is stored in the dictionary? "
   ]
  },
  {
   "cell_type": "code",
   "execution_count": 3,
   "metadata": {},
   "outputs": [
    {
     "data": {
      "text/plain": [
       "dict_keys(['input_date', 'reference_date', 'location', 'zipfile', 'excelfile', 'metadata', 'RFR_spot_no_VA', 'RFR_spot_with_VA'])"
      ]
     },
     "execution_count": 3,
     "metadata": {},
     "output_type": "execute_result"
    }
   ],
   "source": [
    "d.keys()"
   ]
  },
  {
   "cell_type": "markdown",
   "metadata": {},
   "source": [
    "Let's take a look at the individual elements of the dictionary.\n",
    "\n",
    "The original date by which the function was called is stored in the dictionary as input_date."
   ]
  },
  {
   "cell_type": "code",
   "execution_count": 4,
   "metadata": {},
   "outputs": [
    {
     "data": {
      "text/plain": [
       "datetime.datetime(2018, 1, 1, 0, 0)"
      ]
     },
     "execution_count": 4,
     "metadata": {},
     "output_type": "execute_result"
    }
   ],
   "source": [
    "d['input_date']"
   ]
  },
  {
   "cell_type": "markdown",
   "metadata": {},
   "source": [
    "You can call the function with any date and the function will generate a proper reference date from it. The reference date is the most recent end of the month prior to the input date. So if for example the input is <code>datetime(2018, 1, 1)</code> then the reference date is <code>'20171231'</code>, because this the most recent end of the month prior to the input date. The reference date is a string because it is used in the name of the files to be downloaded from the EIOPA-website."
   ]
  },
  {
   "cell_type": "code",
   "execution_count": 5,
   "metadata": {},
   "outputs": [
    {
     "data": {
      "text/plain": [
       "'20171231'"
      ]
     },
     "execution_count": 5,
     "metadata": {},
     "output_type": "execute_result"
    }
   ],
   "source": [
    "d['reference_date']"
   ]
  },
  {
   "cell_type": "markdown",
   "metadata": {},
   "source": [
    "Furthermore the url, location and filenames are stored in the dictionary."
   ]
  },
  {
   "cell_type": "code",
   "execution_count": 6,
   "metadata": {},
   "outputs": [
    {
     "name": "stdout",
     "output_type": "stream",
     "text": [
      "https://eiopa.europa.eu/Publications/Standards/\n",
      "EIOPA_RFR_20171231.zip\n",
      "EIOPA_RFR_20171231_Term_Structures.xlsx\n"
     ]
    }
   ],
   "source": [
    "print(d['location'])\n",
    "print(d['zipfile'])\n",
    "print(d['excelfile'])"
   ]
  },
  {
   "cell_type": "markdown",
   "metadata": {},
   "source": [
    "Now, let's take a look at the available RFR's."
   ]
  },
  {
   "cell_type": "code",
   "execution_count": 7,
   "metadata": {},
   "outputs": [
    {
     "data": {
      "text/plain": [
       "Index(['Euro', 'Austria', 'Belgium', 'Bulgaria', 'Croatia', 'Cyprus',\n",
       "       'Czech Republic', 'Denmark', 'Estonia', 'Finland', 'France', 'Germany',\n",
       "       'Greece', 'Hungary', 'Iceland', 'Ireland', 'Italy', 'Latvia',\n",
       "       'Liechtenstein', 'Lithuania', 'Luxembourg', 'Malta', 'Netherlands',\n",
       "       'Norway', 'Poland', 'Portugal', 'Romania', 'Russia', 'Slovakia',\n",
       "       'Slovenia', 'Spain', 'Sweden', 'Switzerland', 'United Kingdom',\n",
       "       'Australia', 'Brazil', 'Canada', 'Chile', 'China', 'Colombia',\n",
       "       'Hong Kong', 'India', 'Japan', 'Malaysia', 'Mexico', 'New Zealand',\n",
       "       'Singapore', 'South Africa', 'South Korea', 'Taiwan', 'Thailand',\n",
       "       'Turkey', 'United States'],\n",
       "      dtype='object')"
      ]
     },
     "execution_count": 7,
     "metadata": {},
     "output_type": "execute_result"
    }
   ],
   "source": [
    "d['metadata'].columns"
   ]
  },
  {
   "cell_type": "markdown",
   "metadata": {},
   "source": [
    "To get all the metadata of the French RFR we select <code>metadata</code> from the dictionary."
   ]
  },
  {
   "cell_type": "code",
   "execution_count": 8,
   "metadata": {},
   "outputs": [
    {
     "data": {
      "text/plain": [
       "Info              FR_31_12_2017_SWP_LLP_20_EXT_40_UFR_4.2\n",
       "Coupon_freq                                             1\n",
       "LLP                                                    20\n",
       "Convergence                                            40\n",
       "UFR                                                   4.2\n",
       "alpha                                            0.126759\n",
       "CRA                                                    10\n",
       "VA                                                      4\n",
       "reference date                                   20171231\n",
       "Name: France, dtype: object"
      ]
     },
     "execution_count": 8,
     "metadata": {},
     "output_type": "execute_result"
    }
   ],
   "source": [
    "d['metadata'].loc[:,'France']"
   ]
  },
  {
   "cell_type": "markdown",
   "metadata": {},
   "source": [
    "To get one single item from the metadata we can use the following line (note that this is the UFR at the end of 2017)."
   ]
  },
  {
   "cell_type": "code",
   "execution_count": 9,
   "metadata": {},
   "outputs": [
    {
     "data": {
      "text/plain": [
       "4.2"
      ]
     },
     "execution_count": 9,
     "metadata": {},
     "output_type": "execute_result"
    }
   ],
   "source": [
    "d['metadata'].loc[\"UFR\",'Germany']"
   ]
  },
  {
   "cell_type": "markdown",
   "metadata": {},
   "source": [
    "To get the euro RFR without Volatility Adjustment (the first ten durations) we use\n",
    "\n"
   ]
  },
  {
   "cell_type": "code",
   "execution_count": 10,
   "metadata": {},
   "outputs": [
    {
     "data": {
      "text/plain": [
       "Duration\n",
       "1    -0.00358\n",
       "2     -0.0025\n",
       "3    -0.00088\n",
       "4     0.00069\n",
       "5     0.00209\n",
       "6     0.00347\n",
       "7     0.00469\n",
       "8     0.00585\n",
       "9     0.00695\n",
       "10    0.00802\n",
       "Name: Euro, dtype: object"
      ]
     },
     "execution_count": 10,
     "metadata": {},
     "output_type": "execute_result"
    }
   ],
   "source": [
    "d['RFR_spot_no_VA']['Euro'].head(10)"
   ]
  },
  {
   "cell_type": "markdown",
   "metadata": {},
   "source": [
    "Now suppose that we want to store the RFR of six consecutive months into one DataFrame. This is how we can do that.\n",
    "\n",
    "First we define <code>ref_dates</code> with the reference dates we want to acquire."
   ]
  },
  {
   "cell_type": "code",
   "execution_count": 11,
   "metadata": {},
   "outputs": [
    {
     "data": {
      "text/plain": [
       "DatetimeIndex(['2018-01-01', '2018-02-01', '2018-03-01', '2018-04-01',\n",
       "               '2018-05-01', '2018-06-01'],\n",
       "              dtype='datetime64[ns]', freq='MS')"
      ]
     },
     "execution_count": 11,
     "metadata": {},
     "output_type": "execute_result"
    }
   ],
   "source": [
    "ref_dates = pd.date_range(start='2018-01-01', periods = 6,freq = 'MS')\n",
    "\n",
    "ref_dates"
   ]
  },
  {
   "cell_type": "markdown",
   "metadata": {},
   "source": [
    "Then we use a Python list comprehension to obtain the RFR's of the reference dates and we show the DataFrame with the first ten durations."
   ]
  },
  {
   "cell_type": "code",
   "execution_count": 12,
   "metadata": {
    "scrolled": true
   },
   "outputs": [
    {
     "data": {
      "text/html": [
       "<div>\n",
       "<style scoped>\n",
       "    .dataframe tbody tr th:only-of-type {\n",
       "        vertical-align: middle;\n",
       "    }\n",
       "\n",
       "    .dataframe tbody tr th {\n",
       "        vertical-align: top;\n",
       "    }\n",
       "\n",
       "    .dataframe thead th {\n",
       "        text-align: right;\n",
       "    }\n",
       "</style>\n",
       "<table border=\"1\" class=\"dataframe\">\n",
       "  <thead>\n",
       "    <tr style=\"text-align: right;\">\n",
       "      <th></th>\n",
       "      <th>2018-01-01 00:00:00</th>\n",
       "      <th>2018-02-01 00:00:00</th>\n",
       "      <th>2018-03-01 00:00:00</th>\n",
       "      <th>2018-04-01 00:00:00</th>\n",
       "      <th>2018-05-01 00:00:00</th>\n",
       "      <th>2018-06-01 00:00:00</th>\n",
       "    </tr>\n",
       "    <tr>\n",
       "      <th>Duration</th>\n",
       "      <th></th>\n",
       "      <th></th>\n",
       "      <th></th>\n",
       "      <th></th>\n",
       "      <th></th>\n",
       "      <th></th>\n",
       "    </tr>\n",
       "  </thead>\n",
       "  <tbody>\n",
       "    <tr>\n",
       "      <th>1</th>\n",
       "      <td>-0.00358</td>\n",
       "      <td>-0.00363</td>\n",
       "      <td>-0.00352</td>\n",
       "      <td>-0.00362</td>\n",
       "      <td>-0.00358</td>\n",
       "      <td>-0.00331</td>\n",
       "    </tr>\n",
       "    <tr>\n",
       "      <th>2</th>\n",
       "      <td>-0.00250</td>\n",
       "      <td>-0.00225</td>\n",
       "      <td>-0.00220</td>\n",
       "      <td>-0.00258</td>\n",
       "      <td>-0.00244</td>\n",
       "      <td>-0.00236</td>\n",
       "    </tr>\n",
       "    <tr>\n",
       "      <th>3</th>\n",
       "      <td>-0.00088</td>\n",
       "      <td>-0.00020</td>\n",
       "      <td>-0.00022</td>\n",
       "      <td>-0.00083</td>\n",
       "      <td>-0.00065</td>\n",
       "      <td>-0.00098</td>\n",
       "    </tr>\n",
       "    <tr>\n",
       "      <th>4</th>\n",
       "      <td>0.00069</td>\n",
       "      <td>0.00190</td>\n",
       "      <td>0.00178</td>\n",
       "      <td>0.00104</td>\n",
       "      <td>0.00120</td>\n",
       "      <td>0.00057</td>\n",
       "    </tr>\n",
       "    <tr>\n",
       "      <th>5</th>\n",
       "      <td>0.00209</td>\n",
       "      <td>0.00380</td>\n",
       "      <td>0.00361</td>\n",
       "      <td>0.00285</td>\n",
       "      <td>0.00286</td>\n",
       "      <td>0.00213</td>\n",
       "    </tr>\n",
       "    <tr>\n",
       "      <th>6</th>\n",
       "      <td>0.00347</td>\n",
       "      <td>0.00537</td>\n",
       "      <td>0.00521</td>\n",
       "      <td>0.00418</td>\n",
       "      <td>0.00441</td>\n",
       "      <td>0.00356</td>\n",
       "    </tr>\n",
       "    <tr>\n",
       "      <th>7</th>\n",
       "      <td>0.00469</td>\n",
       "      <td>0.00670</td>\n",
       "      <td>0.00666</td>\n",
       "      <td>0.00556</td>\n",
       "      <td>0.00577</td>\n",
       "      <td>0.00490</td>\n",
       "    </tr>\n",
       "    <tr>\n",
       "      <th>8</th>\n",
       "      <td>0.00585</td>\n",
       "      <td>0.00791</td>\n",
       "      <td>0.00793</td>\n",
       "      <td>0.00672</td>\n",
       "      <td>0.00698</td>\n",
       "      <td>0.00613</td>\n",
       "    </tr>\n",
       "    <tr>\n",
       "      <th>9</th>\n",
       "      <td>0.00695</td>\n",
       "      <td>0.00899</td>\n",
       "      <td>0.00906</td>\n",
       "      <td>0.00783</td>\n",
       "      <td>0.00809</td>\n",
       "      <td>0.00725</td>\n",
       "    </tr>\n",
       "    <tr>\n",
       "      <th>10</th>\n",
       "      <td>0.00802</td>\n",
       "      <td>0.00987</td>\n",
       "      <td>0.01007</td>\n",
       "      <td>0.00884</td>\n",
       "      <td>0.00911</td>\n",
       "      <td>0.00824</td>\n",
       "    </tr>\n",
       "  </tbody>\n",
       "</table>\n",
       "</div>"
      ],
      "text/plain": [
       "          2018-01-01  2018-02-01  2018-03-01  2018-04-01  2018-05-01  \\\n",
       "Duration                                                               \n",
       "1           -0.00358    -0.00363    -0.00352    -0.00362    -0.00358   \n",
       "2           -0.00250    -0.00225    -0.00220    -0.00258    -0.00244   \n",
       "3           -0.00088    -0.00020    -0.00022    -0.00083    -0.00065   \n",
       "4            0.00069     0.00190     0.00178     0.00104     0.00120   \n",
       "5            0.00209     0.00380     0.00361     0.00285     0.00286   \n",
       "6            0.00347     0.00537     0.00521     0.00418     0.00441   \n",
       "7            0.00469     0.00670     0.00666     0.00556     0.00577   \n",
       "8            0.00585     0.00791     0.00793     0.00672     0.00698   \n",
       "9            0.00695     0.00899     0.00906     0.00783     0.00809   \n",
       "10           0.00802     0.00987     0.01007     0.00884     0.00911   \n",
       "\n",
       "          2018-06-01  \n",
       "Duration              \n",
       "1           -0.00331  \n",
       "2           -0.00236  \n",
       "3           -0.00098  \n",
       "4            0.00057  \n",
       "5            0.00213  \n",
       "6            0.00356  \n",
       "7            0.00490  \n",
       "8            0.00613  \n",
       "9            0.00725  \n",
       "10           0.00824  "
      ]
     },
     "execution_count": 12,
     "metadata": {},
     "output_type": "execute_result"
    }
   ],
   "source": [
    "rfr = [dict_RFR(ref_date)['RFR_spot_no_VA']['Euro'] for ref_date in ref_dates]\n",
    "\n",
    "df_euro = pd.DataFrame(data = rfr, index = ref_dates).T\n",
    "\n",
    "df_euro.head(10)"
   ]
  },
  {
   "cell_type": "markdown",
   "metadata": {},
   "source": [
    "A list comprehension can also be used for the metadata. The following code obtains the metadata of the UK RFR."
   ]
  },
  {
   "cell_type": "code",
   "execution_count": 13,
   "metadata": {},
   "outputs": [
    {
     "data": {
      "text/html": [
       "<div>\n",
       "<style scoped>\n",
       "    .dataframe tbody tr th:only-of-type {\n",
       "        vertical-align: middle;\n",
       "    }\n",
       "\n",
       "    .dataframe tbody tr th {\n",
       "        vertical-align: top;\n",
       "    }\n",
       "\n",
       "    .dataframe thead th {\n",
       "        text-align: right;\n",
       "    }\n",
       "</style>\n",
       "<table border=\"1\" class=\"dataframe\">\n",
       "  <thead>\n",
       "    <tr style=\"text-align: right;\">\n",
       "      <th></th>\n",
       "      <th>Info</th>\n",
       "      <th>Coupon_freq</th>\n",
       "      <th>LLP</th>\n",
       "      <th>Convergence</th>\n",
       "      <th>UFR</th>\n",
       "      <th>alpha</th>\n",
       "      <th>CRA</th>\n",
       "      <th>VA</th>\n",
       "      <th>reference date</th>\n",
       "    </tr>\n",
       "  </thead>\n",
       "  <tbody>\n",
       "    <tr>\n",
       "      <th>2018-01-01</th>\n",
       "      <td>GB_31_12_2017_SWP_LLP_50_EXT_40_UFR_4.2</td>\n",
       "      <td>2</td>\n",
       "      <td>50</td>\n",
       "      <td>40</td>\n",
       "      <td>4.20</td>\n",
       "      <td>0.133473</td>\n",
       "      <td>10</td>\n",
       "      <td>18</td>\n",
       "      <td>20171231</td>\n",
       "    </tr>\n",
       "    <tr>\n",
       "      <th>2018-02-01</th>\n",
       "      <td>GB_31_1_2018_SWP_LLP_50_EXT_40_UFR_4.05</td>\n",
       "      <td>2</td>\n",
       "      <td>50</td>\n",
       "      <td>40</td>\n",
       "      <td>4.05</td>\n",
       "      <td>0.128235</td>\n",
       "      <td>10</td>\n",
       "      <td>15</td>\n",
       "      <td>20180131</td>\n",
       "    </tr>\n",
       "    <tr>\n",
       "      <th>2018-03-01</th>\n",
       "      <td>GB_28_2_2018_SWP_LLP_50_EXT_40_UFR_4.05</td>\n",
       "      <td>2</td>\n",
       "      <td>50</td>\n",
       "      <td>40</td>\n",
       "      <td>4.05</td>\n",
       "      <td>0.127154</td>\n",
       "      <td>10</td>\n",
       "      <td>18</td>\n",
       "      <td>20180228</td>\n",
       "    </tr>\n",
       "    <tr>\n",
       "      <th>2018-04-01</th>\n",
       "      <td>GB_31_3_2018_SWP_LLP_50_EXT_40_UFR_4.05</td>\n",
       "      <td>2</td>\n",
       "      <td>50</td>\n",
       "      <td>40</td>\n",
       "      <td>4.05</td>\n",
       "      <td>0.127795</td>\n",
       "      <td>10</td>\n",
       "      <td>19</td>\n",
       "      <td>20180331</td>\n",
       "    </tr>\n",
       "    <tr>\n",
       "      <th>2018-05-01</th>\n",
       "      <td>GB_30_4_2018_SWP_LLP_50_EXT_40_UFR_4.05</td>\n",
       "      <td>2</td>\n",
       "      <td>50</td>\n",
       "      <td>40</td>\n",
       "      <td>4.05</td>\n",
       "      <td>0.126027</td>\n",
       "      <td>10</td>\n",
       "      <td>19</td>\n",
       "      <td>20180430</td>\n",
       "    </tr>\n",
       "    <tr>\n",
       "      <th>2018-06-01</th>\n",
       "      <td>GB_31_5_2018_SWP_LLP_50_EXT_40_UFR_4.05</td>\n",
       "      <td>2</td>\n",
       "      <td>50</td>\n",
       "      <td>40</td>\n",
       "      <td>4.05</td>\n",
       "      <td>0.126208</td>\n",
       "      <td>10</td>\n",
       "      <td>20</td>\n",
       "      <td>20180531</td>\n",
       "    </tr>\n",
       "  </tbody>\n",
       "</table>\n",
       "</div>"
      ],
      "text/plain": [
       "                                               Info  Coupon_freq  LLP  \\\n",
       "2018-01-01  GB_31_12_2017_SWP_LLP_50_EXT_40_UFR_4.2            2   50   \n",
       "2018-02-01  GB_31_1_2018_SWP_LLP_50_EXT_40_UFR_4.05            2   50   \n",
       "2018-03-01  GB_28_2_2018_SWP_LLP_50_EXT_40_UFR_4.05            2   50   \n",
       "2018-04-01  GB_31_3_2018_SWP_LLP_50_EXT_40_UFR_4.05            2   50   \n",
       "2018-05-01  GB_30_4_2018_SWP_LLP_50_EXT_40_UFR_4.05            2   50   \n",
       "2018-06-01  GB_31_5_2018_SWP_LLP_50_EXT_40_UFR_4.05            2   50   \n",
       "\n",
       "            Convergence   UFR     alpha  CRA  VA reference date  \n",
       "2018-01-01           40  4.20  0.133473   10  18       20171231  \n",
       "2018-02-01           40  4.05  0.128235   10  15       20180131  \n",
       "2018-03-01           40  4.05  0.127154   10  18       20180228  \n",
       "2018-04-01           40  4.05  0.127795   10  19       20180331  \n",
       "2018-05-01           40  4.05  0.126027   10  19       20180430  \n",
       "2018-06-01           40  4.05  0.126208   10  20       20180531  "
      ]
     },
     "execution_count": 13,
     "metadata": {},
     "output_type": "execute_result"
    }
   ],
   "source": [
    "rfr = [dict_RFR(ref_date)['metadata']['United Kingdom'] for ref_date in ref_dates]\n",
    "\n",
    "pd.DataFrame(data = rfr, index = ref_dates)"
   ]
  },
  {
   "cell_type": "code",
   "execution_count": null,
   "metadata": {},
   "outputs": [],
   "source": []
  },
  {
   "cell_type": "code",
   "execution_count": 14,
   "metadata": {},
   "outputs": [
    {
     "data": {
      "text/html": [
       "<div>\n",
       "<style scoped>\n",
       "    .dataframe tbody tr th:only-of-type {\n",
       "        vertical-align: middle;\n",
       "    }\n",
       "\n",
       "    .dataframe tbody tr th {\n",
       "        vertical-align: top;\n",
       "    }\n",
       "\n",
       "    .dataframe thead th {\n",
       "        text-align: right;\n",
       "    }\n",
       "</style>\n",
       "<table border=\"1\" class=\"dataframe\">\n",
       "  <thead>\n",
       "    <tr style=\"text-align: right;\">\n",
       "      <th></th>\n",
       "      <th>Info</th>\n",
       "      <th>Coupon_freq</th>\n",
       "      <th>LLP</th>\n",
       "      <th>Convergence</th>\n",
       "      <th>UFR</th>\n",
       "      <th>alpha</th>\n",
       "      <th>CRA</th>\n",
       "      <th>VA</th>\n",
       "      <th>reference date</th>\n",
       "    </tr>\n",
       "  </thead>\n",
       "  <tbody>\n",
       "    <tr>\n",
       "      <th>2018-01-01</th>\n",
       "      <td>US_31_12_2017_SWP_LLP_50_EXT_40_UFR_4.2</td>\n",
       "      <td>2</td>\n",
       "      <td>50</td>\n",
       "      <td>40</td>\n",
       "      <td>4.20</td>\n",
       "      <td>0.115885</td>\n",
       "      <td>10</td>\n",
       "      <td>28.0</td>\n",
       "      <td>20171231</td>\n",
       "    </tr>\n",
       "    <tr>\n",
       "      <th>2018-02-01</th>\n",
       "      <td>US_31_1_2018_SWP_LLP_50_EXT_40_UFR_4.05</td>\n",
       "      <td>2</td>\n",
       "      <td>50</td>\n",
       "      <td>40</td>\n",
       "      <td>4.05</td>\n",
       "      <td>0.110722</td>\n",
       "      <td>10</td>\n",
       "      <td>22.0</td>\n",
       "      <td>20180131</td>\n",
       "    </tr>\n",
       "    <tr>\n",
       "      <th>2018-03-01</th>\n",
       "      <td>US_28_2_2018_SWP_LLP_50_EXT_40_UFR_4.05</td>\n",
       "      <td>2</td>\n",
       "      <td>50</td>\n",
       "      <td>40</td>\n",
       "      <td>4.05</td>\n",
       "      <td>0.107315</td>\n",
       "      <td>10</td>\n",
       "      <td>27.0</td>\n",
       "      <td>20180228</td>\n",
       "    </tr>\n",
       "    <tr>\n",
       "      <th>2018-04-01</th>\n",
       "      <td>US_31_3_2018_SWP_LLP_50_EXT_40_UFR_4.05</td>\n",
       "      <td>2</td>\n",
       "      <td>50</td>\n",
       "      <td>40</td>\n",
       "      <td>4.05</td>\n",
       "      <td>0.104800</td>\n",
       "      <td>10</td>\n",
       "      <td>30.0</td>\n",
       "      <td>20180331</td>\n",
       "    </tr>\n",
       "    <tr>\n",
       "      <th>2018-05-01</th>\n",
       "      <td>US_30_4_2018_SWP_LLP_50_EXT_40_UFR_4.05</td>\n",
       "      <td>2</td>\n",
       "      <td>50</td>\n",
       "      <td>40</td>\n",
       "      <td>4.05</td>\n",
       "      <td>0.109593</td>\n",
       "      <td>11</td>\n",
       "      <td>30.0</td>\n",
       "      <td>20180430</td>\n",
       "    </tr>\n",
       "    <tr>\n",
       "      <th>2018-06-01</th>\n",
       "      <td>US_31_5_2018_SWP_LLP_50_EXT_40_UFR_4.05</td>\n",
       "      <td>2</td>\n",
       "      <td>50</td>\n",
       "      <td>40</td>\n",
       "      <td>4.05</td>\n",
       "      <td>0.110946</td>\n",
       "      <td>13</td>\n",
       "      <td>34.0</td>\n",
       "      <td>20180531</td>\n",
       "    </tr>\n",
       "  </tbody>\n",
       "</table>\n",
       "</div>"
      ],
      "text/plain": [
       "                                               Info  Coupon_freq  LLP  \\\n",
       "2018-01-01  US_31_12_2017_SWP_LLP_50_EXT_40_UFR_4.2            2   50   \n",
       "2018-02-01  US_31_1_2018_SWP_LLP_50_EXT_40_UFR_4.05            2   50   \n",
       "2018-03-01  US_28_2_2018_SWP_LLP_50_EXT_40_UFR_4.05            2   50   \n",
       "2018-04-01  US_31_3_2018_SWP_LLP_50_EXT_40_UFR_4.05            2   50   \n",
       "2018-05-01  US_30_4_2018_SWP_LLP_50_EXT_40_UFR_4.05            2   50   \n",
       "2018-06-01  US_31_5_2018_SWP_LLP_50_EXT_40_UFR_4.05            2   50   \n",
       "\n",
       "            Convergence   UFR     alpha  CRA    VA reference date  \n",
       "2018-01-01           40  4.20  0.115885   10  28.0       20171231  \n",
       "2018-02-01           40  4.05  0.110722   10  22.0       20180131  \n",
       "2018-03-01           40  4.05  0.107315   10  27.0       20180228  \n",
       "2018-04-01           40  4.05  0.104800   10  30.0       20180331  \n",
       "2018-05-01           40  4.05  0.109593   11  30.0       20180430  \n",
       "2018-06-01           40  4.05  0.110946   13  34.0       20180531  "
      ]
     },
     "execution_count": 14,
     "metadata": {},
     "output_type": "execute_result"
    }
   ],
   "source": [
    "rfr = [dict_RFR(ref_date)['metadata']['United States'] for ref_date in ref_dates]\n",
    "\n",
    "pd.DataFrame(data = rfr, index = ref_dates)"
   ]
  },
  {
   "cell_type": "code",
   "execution_count": null,
   "metadata": {},
   "outputs": [],
   "source": []
  }
 ],
 "metadata": {
  "kernelspec": {
   "display_name": "Python 3",
   "language": "python",
   "name": "python3"
  },
  "language_info": {
   "codemirror_mode": {
    "name": "ipython",
    "version": 3
   },
   "file_extension": ".py",
   "mimetype": "text/x-python",
   "name": "python",
   "nbconvert_exporter": "python",
   "pygments_lexer": "ipython3",
   "version": "3.6.5"
  }
 },
 "nbformat": 4,
 "nbformat_minor": 2
}
